{
 "cells": [
  {
   "cell_type": "code",
   "execution_count": 5,
   "id": "8499cfd0",
   "metadata": {},
   "outputs": [
    {
     "name": "stdout",
     "output_type": "stream",
     "text": [
      "Collecting pypdf\n",
      "  Downloading pypdf-3.9.1-py3-none-any.whl (249 kB)\n",
      "     -------------------------------------- 249.3/249.3 kB 5.1 MB/s eta 0:00:00\n",
      "Requirement already satisfied: transformers in c:\\users\\shash\\anaconda3\\lib\\site-packages (4.30.1)\n",
      "Collecting langchain\n",
      "  Downloading langchain-0.0.200-py3-none-any.whl (1.0 MB)\n",
      "     ---------------------------------------- 1.0/1.0 MB 11.0 MB/s eta 0:00:00\n",
      "Requirement already satisfied: huggingface_hub in c:\\users\\shash\\anaconda3\\lib\\site-packages (0.15.1)\n",
      "Collecting faiss-cpu\n",
      "  Downloading faiss_cpu-1.7.4-cp39-cp39-win_amd64.whl (10.8 MB)\n",
      "     ---------------------------------------- 10.8/10.8 MB 9.4 MB/s eta 0:00:00\n",
      "Requirement already satisfied: typing_extensions>=3.10.0.0 in c:\\users\\shash\\anaconda3\\lib\\site-packages (from pypdf) (4.5.0)\n",
      "Requirement already satisfied: tokenizers!=0.11.3,<0.14,>=0.11.1 in c:\\users\\shash\\anaconda3\\lib\\site-packages (from transformers) (0.13.3)\n",
      "Requirement already satisfied: filelock in c:\\users\\shash\\anaconda3\\lib\\site-packages (from transformers) (3.6.0)\n",
      "Requirement already satisfied: numpy>=1.17 in c:\\users\\shash\\anaconda3\\lib\\site-packages (from transformers) (1.21.5)\n",
      "Requirement already satisfied: pyyaml>=5.1 in c:\\users\\shash\\anaconda3\\lib\\site-packages (from transformers) (6.0)\n",
      "Requirement already satisfied: requests in c:\\users\\shash\\anaconda3\\lib\\site-packages (from transformers) (2.28.1)\n",
      "Requirement already satisfied: regex!=2019.12.17 in c:\\users\\shash\\anaconda3\\lib\\site-packages (from transformers) (2022.7.9)\n",
      "Requirement already satisfied: safetensors>=0.3.1 in c:\\users\\shash\\anaconda3\\lib\\site-packages (from transformers) (0.3.1)\n",
      "Requirement already satisfied: packaging>=20.0 in c:\\users\\shash\\anaconda3\\lib\\site-packages (from transformers) (21.3)\n",
      "Requirement already satisfied: tqdm>=4.27 in c:\\users\\shash\\anaconda3\\lib\\site-packages (from transformers) (4.64.1)\n",
      "Collecting langchainplus-sdk>=0.0.9\n",
      "  Downloading langchainplus_sdk-0.0.10-py3-none-any.whl (21 kB)\n",
      "Requirement already satisfied: pydantic<2,>=1 in c:\\users\\shash\\anaconda3\\lib\\site-packages (from langchain) (1.10.7)\n",
      "Collecting aiohttp<4.0.0,>=3.8.3\n",
      "  Downloading aiohttp-3.8.4-cp39-cp39-win_amd64.whl (323 kB)\n",
      "     ------------------------------------- 323.6/323.6 kB 19.6 MB/s eta 0:00:00\n",
      "Collecting openapi-schema-pydantic<2.0,>=1.2\n",
      "  Downloading openapi_schema_pydantic-1.2.4-py3-none-any.whl (90 kB)\n",
      "     ---------------------------------------- 90.0/90.0 kB ? eta 0:00:00\n",
      "Requirement already satisfied: SQLAlchemy<3,>=1.4 in c:\\users\\shash\\anaconda3\\lib\\site-packages (from langchain) (1.4.39)\n",
      "Collecting tenacity<9.0.0,>=8.1.0\n",
      "  Downloading tenacity-8.2.2-py3-none-any.whl (24 kB)\n",
      "Collecting numexpr<3.0.0,>=2.8.4\n",
      "  Downloading numexpr-2.8.4-cp39-cp39-win_amd64.whl (92 kB)\n",
      "     ---------------------------------------- 92.7/92.7 kB 5.2 MB/s eta 0:00:00\n",
      "Collecting dataclasses-json<0.6.0,>=0.5.7\n",
      "  Downloading dataclasses_json-0.5.8-py3-none-any.whl (26 kB)\n",
      "Collecting async-timeout<5.0.0,>=4.0.0\n",
      "  Downloading async_timeout-4.0.2-py3-none-any.whl (5.8 kB)\n",
      "Requirement already satisfied: fsspec in c:\\users\\shash\\anaconda3\\lib\\site-packages (from huggingface_hub) (2022.7.1)\n",
      "Collecting yarl<2.0,>=1.0\n",
      "  Downloading yarl-1.9.2-cp39-cp39-win_amd64.whl (61 kB)\n",
      "     ---------------------------------------- 61.7/61.7 kB 3.4 MB/s eta 0:00:00\n",
      "Requirement already satisfied: charset-normalizer<4.0,>=2.0 in c:\\users\\shash\\anaconda3\\lib\\site-packages (from aiohttp<4.0.0,>=3.8.3->langchain) (2.0.4)\n",
      "Requirement already satisfied: attrs>=17.3.0 in c:\\users\\shash\\anaconda3\\lib\\site-packages (from aiohttp<4.0.0,>=3.8.3->langchain) (21.4.0)\n",
      "Collecting aiosignal>=1.1.2\n",
      "  Downloading aiosignal-1.3.1-py3-none-any.whl (7.6 kB)\n",
      "Collecting multidict<7.0,>=4.5\n",
      "  Downloading multidict-6.0.4-cp39-cp39-win_amd64.whl (28 kB)\n",
      "Collecting frozenlist>=1.1.1\n",
      "  Downloading frozenlist-1.3.3-cp39-cp39-win_amd64.whl (34 kB)\n",
      "Collecting typing-inspect>=0.4.0\n",
      "  Downloading typing_inspect-0.9.0-py3-none-any.whl (8.8 kB)\n",
      "Collecting marshmallow-enum<2.0.0,>=1.5.1\n",
      "  Downloading marshmallow_enum-1.5.1-py2.py3-none-any.whl (4.2 kB)\n",
      "Collecting marshmallow<4.0.0,>=3.3.0\n",
      "  Downloading marshmallow-3.19.0-py3-none-any.whl (49 kB)\n",
      "     ---------------------------------------- 49.1/49.1 kB 2.6 MB/s eta 0:00:00\n",
      "Requirement already satisfied: pyparsing!=3.0.5,>=2.0.2 in c:\\users\\shash\\anaconda3\\lib\\site-packages (from packaging>=20.0->transformers) (3.0.9)\n",
      "Requirement already satisfied: urllib3<1.27,>=1.21.1 in c:\\users\\shash\\anaconda3\\lib\\site-packages (from requests->transformers) (1.26.11)\n",
      "Requirement already satisfied: idna<4,>=2.5 in c:\\users\\shash\\anaconda3\\lib\\site-packages (from requests->transformers) (3.3)\n",
      "Requirement already satisfied: certifi>=2017.4.17 in c:\\users\\shash\\anaconda3\\lib\\site-packages (from requests->transformers) (2022.12.7)\n",
      "Requirement already satisfied: greenlet!=0.4.17 in c:\\users\\shash\\anaconda3\\lib\\site-packages (from SQLAlchemy<3,>=1.4->langchain) (1.1.1)\n",
      "Requirement already satisfied: colorama in c:\\users\\shash\\anaconda3\\lib\\site-packages (from tqdm>=4.27->transformers) (0.4.5)\n",
      "Requirement already satisfied: mypy-extensions>=0.3.0 in c:\\users\\shash\\anaconda3\\lib\\site-packages (from typing-inspect>=0.4.0->dataclasses-json<0.6.0,>=0.5.7->langchain) (0.4.3)\n",
      "Installing collected packages: faiss-cpu, typing-inspect, tenacity, pypdf, numexpr, multidict, frozenlist, async-timeout, yarl, openapi-schema-pydantic, marshmallow, langchainplus-sdk, aiosignal, marshmallow-enum, aiohttp, dataclasses-json, langchain\n",
      "  Attempting uninstall: tenacity\n",
      "    Found existing installation: tenacity 8.0.1\n",
      "    Uninstalling tenacity-8.0.1:\n",
      "      Successfully uninstalled tenacity-8.0.1\n",
      "  Attempting uninstall: numexpr\n",
      "    Found existing installation: numexpr 2.8.3\n",
      "    Uninstalling numexpr-2.8.3:\n",
      "      Successfully uninstalled numexpr-2.8.3\n",
      "Successfully installed aiohttp-3.8.4 aiosignal-1.3.1 async-timeout-4.0.2 dataclasses-json-0.5.8 faiss-cpu-1.7.4 frozenlist-1.3.3 langchain-0.0.200 langchainplus-sdk-0.0.10 marshmallow-3.19.0 marshmallow-enum-1.5.1 multidict-6.0.4 numexpr-2.8.4 openapi-schema-pydantic-1.2.4 pypdf-3.9.1 tenacity-8.2.2 typing-inspect-0.9.0 yarl-1.9.2\n"
     ]
    }
   ],
   "source": [
    "!pip install pypdf transformers langchain huggingface_hub faiss-cpu"
   ]
  },
  {
   "cell_type": "markdown",
   "id": "efa35482",
   "metadata": {},
   "source": [
    "## Import statements"
   ]
  },
  {
   "cell_type": "code",
   "execution_count": 36,
   "id": "d838a848",
   "metadata": {},
   "outputs": [],
   "source": [
    "import os\n",
    "from dotenv import load_dotenv\n",
    "from langchain import PromptTemplate, LLMChain, HuggingFaceHub\n",
    "from langchain.document_loaders import PyPDFLoader\n",
    "from langchain.text_splitter import RecursiveCharacterTextSplitter\n",
    "from langchain.embeddings import HuggingFaceHubEmbeddings\n",
    "from langchain.vectorstores import FAISS\n",
    "from langchain.llms import HuggingFaceHub\n",
    "from langchain.chains import ConversationalRetrievalChain\n",
    "from langchain.chains.question_answering import load_qa_chain"
   ]
  },
  {
   "cell_type": "markdown",
   "id": "9a7b5a23",
   "metadata": {},
   "source": [
    "## Setting up hugging face account"
   ]
  },
  {
   "cell_type": "code",
   "execution_count": 5,
   "id": "02163528",
   "metadata": {},
   "outputs": [],
   "source": [
    "load_dotenv()\n",
    "\n",
    "hf_hub = os.environ.get(\"hf_hub\")\n",
    "os.environ['HUGGINGFACEHUB_API_TOKEN'] = hf_hub\n"
   ]
  },
  {
   "cell_type": "code",
   "execution_count": 19,
   "id": "9085f3b1",
   "metadata": {},
   "outputs": [],
   "source": [
    "path_to_file = 'Quotes.pdf'\n",
    "pdf_loader = PyPDFLoader(path_to_file)\n",
    "pages = pdf_loader.load_and_split()"
   ]
  },
  {
   "cell_type": "code",
   "execution_count": 20,
   "id": "8f5c1bb7",
   "metadata": {},
   "outputs": [
    {
     "data": {
      "text/plain": [
       "Document(page_content='Anime Quotes About Life  \\n\"The world isn\\'t perfect. But it\\'s there for us, doing the best it can that\\'s what makes it so damn beautiful.\" \\n--- Roy Mustang (Full Metal Alchemist)  \\n\"To know sorrow is not terrifying. What is terrifying is to know you can\\'t go back to happiness you could h\\nave.\" --- Matsumoto Rangiku (Bleach)  \\n\"We are all like fireworks: We climb, we shine and always go our separate ways and become further apart\\n. But even when that time comes, let\\'s not disappear like a firework and continue to shine forever.\" --- Hits\\nugaya Toshiro (Bleach)  \\n\"Those who stand at the top determine what\\'s wrong and what\\'s right! This very place is neutral ground! J\\nustice will prevail, you say? But, of course, it will! Whoever wins this war becomes justice!\" --- Don Quixot\\ne Doflamingo (One Piece)  \\n\"Fear is not evil. It tells you what weakness is. And once you know your weakness, you can become stron\\nger as well as kinder.\" --- Gildarts Clive (Fairy Tail)  \\n\"Whatever you lose, you\\'ll find it again. But what you throw away you\\'ll never get back.\" --- Kenshin Himur\\na (Rurouni Kenshin: Meiji Kenkaku Romantan)  \\n\"Fear is freedom! Subjugation is liberation! Contradiction is truth! Those are the facts of this world! And yo\\nu will all surrender to them, you pigs in human clothing!\" --- Satsuki Kiryuuin (Kill la Kill)  \\n\"I am the hope of the universe. I am the answer to all living things that cry out for peace. I am protector of \\nthe innocent. I am the light in the darkness. I am truth. Ally to good! Nightmare to you!\" --- Son Goku (Dra\\ngon Ball Z)  \\n\"Religion, ideology, resources, land, spite, love or just because no matter how pathetic the reason, it\\'s en\\nough to start war. War will never cease to exist reasons can be thought up after the fact. Human nature p\\nursues strife.\" --- Paine (Naruto Shippuden)  \\n\"People, who can\\'t throw something important away, can never hope to change anything.\" --- Armin Arlert\\n (Shingeki no Kyojin / Attack on Titan)  \\n\"A person can change, at the moment when the person wishes to change.\" --- Haruhi Fujioka (Ouran High\\nschool Host Club)  \\n\"What good are dreams, if all you do is work? There\\'s more to life than hitting the books, I hope you know.\\n\" --- Tamaki Suou (Ouran Highschool Host Club)  \\n\"If you don\\'t take risks, you can\\'t create a future!\" --- Monkey D. Luffy (One Piece)  \\n\"When you give up, that\\'s when the game ends.\" --- Mitsuyoshi Anzai (Slam Dunk)  \\n\"What good are dreams, if all you do is work? There\\'s more to life than hitting the books, I hope you know.\\n\" --- Tamaki Suou (Ouran Highschool Host Club)  \\n  \\nAnime Quotes About Love  \\n\"You will never be able to love anybody else until you love yourself.\" --- Lelouch Lamperouge (Code Geas\\ns)  \\n\"No matter which love line, what time, or where I am, I will always love you. I\\'ll say it one more time. I love\\n you.\" --- Okabe (Steins; Gate)  \\n\"Even if I lose this feeling, I\\'m sure I\\'ll just fall in love with you all over again.\" --- Syaoran Li (Cardcaptor S\\nakura)  \\n\"Destiny. Fate. Dreams. These unstoppable ideas are held deep in the heart of man. As long as there are \\npeople who seek freedom in this life, these things shall not vanish from the Earth.\" --- Gold D. Rodger (On\\ne Piece)  \\n\"It was like you brought color to my life. You changed my life, all by yourself.\" --- Sawaka Kuronuma (Rea\\nching You)  \\n\"Forgetting is like a wound. The wound may heal but it has already left a scar.\" --- Monkey D Luffy (One P\\niece)  \\n\"If it\\'s possible for one person to be hurt by another, then it\\'s possible for that person to be healed by anot\\nher.\" --- Sohma Hatori (Fruits Basket)  \\n\"If I can meet you again, against the 6 billion to 1 odds, even If you can\\'t move, I\\'ll marry you.\" --- Hideki H\\ninata (Angel Beats)  \\n\"The scars that you can\\'t see are the hardest to heal.\" --- Nao Tamori (Charlotte)  \\n\"Either in belief or doubt, if I lean to one of these sides, my reaction time will be dulled if my heart thinks th\\ne opposite of what I choose.\" --- Roronoa Zoro (One Piece)', metadata={'source': 'Quotes.pdf', 'page': 0})"
      ]
     },
     "execution_count": 20,
     "metadata": {},
     "output_type": "execute_result"
    }
   ],
   "source": [
    "pages[0]"
   ]
  },
  {
   "cell_type": "markdown",
   "id": "8be9db1b",
   "metadata": {},
   "source": [
    "## Embedding the input paragraph"
   ]
  },
  {
   "cell_type": "code",
   "execution_count": 22,
   "id": "3abdb592",
   "metadata": {},
   "outputs": [
    {
     "name": "stderr",
     "output_type": "stream",
     "text": [
      "You're using a different task than the one specified in the repository. Be sure to know what you're doing :)\n"
     ]
    }
   ],
   "source": [
    "embeddings = HuggingFaceHubEmbeddings()\n",
    "db = FAISS.from_documents(pages, embeddings)"
   ]
  },
  {
   "cell_type": "markdown",
   "id": "a44c3729",
   "metadata": {},
   "source": [
    "## Similarity Search"
   ]
  },
  {
   "cell_type": "code",
   "execution_count": 23,
   "id": "a9d26d6a",
   "metadata": {
    "collapsed": true
   },
   "outputs": [
    {
     "data": {
      "text/plain": [
       "[Document(page_content='Anime Quotes About Life  \\n\"The world isn\\'t perfect. But it\\'s there for us, doing the best it can that\\'s what makes it so damn beautiful.\" \\n--- Roy Mustang (Full Metal Alchemist)  \\n\"To know sorrow is not terrifying. What is terrifying is to know you can\\'t go back to happiness you could h\\nave.\" --- Matsumoto Rangiku (Bleach)  \\n\"We are all like fireworks: We climb, we shine and always go our separate ways and become further apart\\n. But even when that time comes, let\\'s not disappear like a firework and continue to shine forever.\" --- Hits\\nugaya Toshiro (Bleach)  \\n\"Those who stand at the top determine what\\'s wrong and what\\'s right! This very place is neutral ground! J\\nustice will prevail, you say? But, of course, it will! Whoever wins this war becomes justice!\" --- Don Quixot\\ne Doflamingo (One Piece)  \\n\"Fear is not evil. It tells you what weakness is. And once you know your weakness, you can become stron\\nger as well as kinder.\" --- Gildarts Clive (Fairy Tail)  \\n\"Whatever you lose, you\\'ll find it again. But what you throw away you\\'ll never get back.\" --- Kenshin Himur\\na (Rurouni Kenshin: Meiji Kenkaku Romantan)  \\n\"Fear is freedom! Subjugation is liberation! Contradiction is truth! Those are the facts of this world! And yo\\nu will all surrender to them, you pigs in human clothing!\" --- Satsuki Kiryuuin (Kill la Kill)  \\n\"I am the hope of the universe. I am the answer to all living things that cry out for peace. I am protector of \\nthe innocent. I am the light in the darkness. I am truth. Ally to good! Nightmare to you!\" --- Son Goku (Dra\\ngon Ball Z)  \\n\"Religion, ideology, resources, land, spite, love or just because no matter how pathetic the reason, it\\'s en\\nough to start war. War will never cease to exist reasons can be thought up after the fact. Human nature p\\nursues strife.\" --- Paine (Naruto Shippuden)  \\n\"People, who can\\'t throw something important away, can never hope to change anything.\" --- Armin Arlert\\n (Shingeki no Kyojin / Attack on Titan)  \\n\"A person can change, at the moment when the person wishes to change.\" --- Haruhi Fujioka (Ouran High\\nschool Host Club)  \\n\"What good are dreams, if all you do is work? There\\'s more to life than hitting the books, I hope you know.\\n\" --- Tamaki Suou (Ouran Highschool Host Club)  \\n\"If you don\\'t take risks, you can\\'t create a future!\" --- Monkey D. Luffy (One Piece)  \\n\"When you give up, that\\'s when the game ends.\" --- Mitsuyoshi Anzai (Slam Dunk)  \\n\"What good are dreams, if all you do is work? There\\'s more to life than hitting the books, I hope you know.\\n\" --- Tamaki Suou (Ouran Highschool Host Club)  \\n  \\nAnime Quotes About Love  \\n\"You will never be able to love anybody else until you love yourself.\" --- Lelouch Lamperouge (Code Geas\\ns)  \\n\"No matter which love line, what time, or where I am, I will always love you. I\\'ll say it one more time. I love\\n you.\" --- Okabe (Steins; Gate)  \\n\"Even if I lose this feeling, I\\'m sure I\\'ll just fall in love with you all over again.\" --- Syaoran Li (Cardcaptor S\\nakura)  \\n\"Destiny. Fate. Dreams. These unstoppable ideas are held deep in the heart of man. As long as there are \\npeople who seek freedom in this life, these things shall not vanish from the Earth.\" --- Gold D. Rodger (On\\ne Piece)  \\n\"It was like you brought color to my life. You changed my life, all by yourself.\" --- Sawaka Kuronuma (Rea\\nching You)  \\n\"Forgetting is like a wound. The wound may heal but it has already left a scar.\" --- Monkey D Luffy (One P\\niece)  \\n\"If it\\'s possible for one person to be hurt by another, then it\\'s possible for that person to be healed by anot\\nher.\" --- Sohma Hatori (Fruits Basket)  \\n\"If I can meet you again, against the 6 billion to 1 odds, even If you can\\'t move, I\\'ll marry you.\" --- Hideki H\\ninata (Angel Beats)  \\n\"The scars that you can\\'t see are the hardest to heal.\" --- Nao Tamori (Charlotte)  \\n\"Either in belief or doubt, if I lean to one of these sides, my reaction time will be dulled if my heart thinks th\\ne opposite of what I choose.\" --- Roronoa Zoro (One Piece)', metadata={'source': 'Quotes.pdf', 'page': 0}),\n",
       " Document(page_content='\"I\\'ll make you so in love with me, that every time our lips touch, you\\'ll die a little death.\" --- Ai Yazawa (Na\\nna)  \\n\"If you love someone, he could make you sad. He could even make you feel lonely sometimes. But that s\\nomeone can also make you happier than you\\'ll ever be.\" --- Saki Hanajima (Fruits Basket)  \\n\"Even if I searched the world over, no one could compare to you.\" --- Hikaru Hitachiin (Ouran Highschool \\nHost Club)  \\n  \\nSad Anime Quotes  \\n\"The thing I wished for destroyed my whole family. I brought all this suffering down on my family because \\nI made a wish for my dad without knowing what he really wanted.\" --- Kyoko Sakura  \\n\"The loneliest people are the kindest. The saddest people smile the brightest. The most damaged people \\nare the wisest. All because they don\\'t wish to see anyone else suffer the way they did.\" --- Jellal Fernande\\ns  \\n\"Is it all right to not hold it in anymore? Sanae-san told me, places that I can cry are in a bathroom, or in d\\naddy\\'s arms.\" --- Ushio  \\n\"Death isn\\'t kind. It\\'s dark and black and as far as you As far as you can see you\\'re all alone. There\\'s no o\\nne else.\" --- Mei Misaki  \\n\"They call certain methods of fighting good and others evil, acting as if there were some nobility to the batt\\nlefield. Such illusions, perpetrated by heroes throughout history, have led countless young men to their bl\\noody deaths, all for the sake of this valor and glory.\" --- Kiritsugu Emiya  \\n\"The two of us aren\\'t so different. My whole life I\\'ve desired from others. I felt bitter to the people around \\nme and I closed off my heart. And a heart that lets nothing in will become empty before you realize it.\" --- \\nMei Aihara  \\n\"Was I able to live inside someone\\'s heart? Was I able to live inside your heart? Do you think you\\'ll reme\\nmber me at least a little? You\\'d better not hit `reset!\\' Don\\'t forget me, OK? That\\'s a promise, OK? I\\'m glad \\nit\\'s you, after all. Will I reach you? I hope I can reach you.\" --- Kaori  \\n\"I\\'m fine, except it\\'s a terrible day for rain.\" --- Roy Mustang  \\n\"Humans die. Animals die. Plants die. Even soul reapers die. It\\'s the arch of the universe. Everything that \\ncomes to life eventually ceases to exist.\" --- Baraggan Louisenbairn  \\n\"I really want to be with all of you! I want to play! That\\'s why I\\'m going to reincarnate! Then I\\'ll be with ever\\nyone again.\" --- Menma  \\n\"Aren\\'t I supposed to have taught you something important in life by now? What have I taught you?\" --- H\\nana  \\n\"Why should I apologize for being a monster? Has anyone ever apologized for turning me into one?\" --- J\\nuuzou Suzuya  \\n\"War is not heroic. War is not exhilarating. And, war is full of despair. It\\'s dark. It\\'s dreadful. It is a thing of \\nsorrow and gloom.\" --- Izura Kira  \\n\"No one in this world can truly hold himself separate from violence. Guns are literally within reach of anyo\\nne. Sadly, that\\'s where we put our faith, in bullets rather than human kindness.\" --- Koko Hekmatyar  \\n\"Did I make the Japanese people happy? Did I make it work?\" --- Euphemia Li Britannia  \\n\"You were always there for me, and that\\'s all I needed. Just you. For some reason, I didn\\'t feel sad or bro\\nken up, it just didn\\'t seem real. But slowly I realized it was real --- that you were gone. And little by little, I \\nslowly felt something inside me go numb.\" --- Jet Black', metadata={'source': 'Quotes.pdf', 'page': 1})]"
      ]
     },
     "execution_count": 23,
     "metadata": {},
     "output_type": "execute_result"
    }
   ],
   "source": [
    "query = \"Can you quote a quote told by Yami\"\n",
    "docs = db.similarity_search(query)\n",
    "docs"
   ]
  },
  {
   "cell_type": "code",
   "execution_count": null,
   "id": "18ea6feb",
   "metadata": {},
   "outputs": [],
   "source": []
  },
  {
   "cell_type": "markdown",
   "id": "5acb4e4c",
   "metadata": {},
   "source": [
    "## Conversational Chain"
   ]
  },
  {
   "cell_type": "code",
   "execution_count": 24,
   "id": "0e74206e",
   "metadata": {},
   "outputs": [],
   "source": [
    "model = 'google/flan-t5-large'\n",
    "model_kwargs = {'temperature': 0.4}"
   ]
  },
  {
   "cell_type": "code",
   "execution_count": 28,
   "id": "87eb1833",
   "metadata": {},
   "outputs": [],
   "source": [
    "chain = load_qa_chain(HuggingFaceHub(repo_id = model, model_kwargs=model_kwargs), chain_type='stuff')\n",
    "qa = ConversationalRetrievalChain.from_llm(HuggingFaceHub(repo_id=model, model_kwargs=model_kwargs), db.as_retriever())"
   ]
  },
  {
   "cell_type": "code",
   "execution_count": 30,
   "id": "129cc7df",
   "metadata": {},
   "outputs": [
    {
     "name": "stdout",
     "output_type": "stream",
     "text": [
      "Hi Hello I am a custom chat bot designed to answer on Anime Quotes\n",
      "User: Hi\n",
      "Chatbot:  Anime Quotes About Life\n",
      "User: Quote by Gildarts\n",
      "Chatbot:  \"The world isn't perfect. But it's there for us, doing the\n",
      "User: Yami\n",
      "Chatbot:  Son Goku\n",
      "User: Son Goku\n",
      "Chatbot:  None\n",
      "User: Quote by Goku\n",
      "Chatbot:  Don Quixote Doflamingo\n",
      "User: exit\n",
      "Thank You for using Anime Quotes bot :)\n"
     ]
    }
   ],
   "source": [
    "chat_history =[]\n",
    "topic = 'Anime Quotes'\n",
    "print(f'Hi Hello I am a custom chat bot designed to answer on {topic}')\n",
    "while True:\n",
    "    question = input('User: ')\n",
    "    if question.lower() == 'exit':\n",
    "        print(f'Thank You for using {topic} bot :)')\n",
    "        break\n",
    "    \n",
    "    result = qa({\"question\": question, \"chat_history\": chat_history})\n",
    "    chat_history.append((question, result['answer']))\n",
    "    \n",
    "    print(\"Chatbot: \",result['answer'])"
   ]
  },
  {
   "cell_type": "markdown",
   "id": "d3d0757a",
   "metadata": {},
   "source": [
    "## The models output is not so good so we need to make some improvements in the data as well as tune hyperparameters of the model"
   ]
  },
  {
   "cell_type": "code",
   "execution_count": 31,
   "id": "bd86a6cc",
   "metadata": {},
   "outputs": [
    {
     "data": {
      "text/plain": [
       "[('Hi', 'Anime Quotes About Life'),\n",
       " ('Quote by Gildarts',\n",
       "  '\"The world isn\\'t perfect. But it\\'s there for us, doing the'),\n",
       " ('Yami', 'Son Goku'),\n",
       " ('Son Goku', 'None'),\n",
       " ('Quote by Goku', 'Don Quixote Doflamingo')]"
      ]
     },
     "execution_count": 31,
     "metadata": {},
     "output_type": "execute_result"
    }
   ],
   "source": [
    "chat_history"
   ]
  },
  {
   "cell_type": "markdown",
   "id": "c8a30b62",
   "metadata": {},
   "source": [
    "## Prompt Method"
   ]
  },
  {
   "cell_type": "code",
   "execution_count": 37,
   "id": "1761786d",
   "metadata": {},
   "outputs": [
    {
     "name": "stdout",
     "output_type": "stream",
     "text": [
      "Hi Hello I am a custom chat bot designed to answer on Anime Quotes\n",
      "User: Hi\n",
      "Chatbot:  I am a student at the University of California, Berkeley.\n",
      "User: Who won the IPL 2023 trophy\n",
      "Chatbot:  ahli jio\n",
      "User: What is the color of orange fruit\n",
      "Chatbot:  yellow\n",
      "User: Which IPL franchise has more torphies\n",
      "Chatbot:  ahli jio\n",
      "User: Which IPL team has won most number of tropies\n",
      "Chatbot:  ahli jio\n",
      "User: IPL full form\n",
      "Chatbot:  icp\n",
      "User: Best anime to watch\n",
      "Chatbot:  ninja turtles\n",
      "User: Are you connected to the internet\n",
      "Chatbot:  no\n",
      "User: can you tell me the question for previous answer\n",
      "Chatbot:  What is the name of the first person to be killed in a car crash?\n",
      "User: exit\n",
      "Thank You for using Anime Quotes bot :)\n"
     ]
    }
   ],
   "source": [
    "chat_history =[]\n",
    "topic = 'Anime Quotes'\n",
    "print(f'Hi Hello I am a custom chat bot designed to answer on {topic}')\n",
    "while True:\n",
    "    question = input('User: ')\n",
    "    if question.lower() == 'exit':\n",
    "        print(f'Thank You for using {topic} bot :)')\n",
    "        break\n",
    "    \n",
    "    hub_llm = HuggingFaceHub(repo_id=model, model_kwargs=model_kwargs)\n",
    "    template = \"\"\"\n",
    "    Question: {question}\n",
    "    Answer:\n",
    "    \"\"\"\n",
    "    prompt = PromptTemplate(template=template, input_variables=['question'])\n",
    "    llm_chain = LLMChain(prompt=prompt, llm=hub_llm)\n",
    "    result = llm_chain.run(question)\n",
    "    chat_history.append((question, result))\n",
    "    \n",
    "    print(\"Chatbot: \",result)"
   ]
  },
  {
   "cell_type": "markdown",
   "id": "c6696918",
   "metadata": {},
   "source": [
    "## The model is not so good one and it is not connected to internet so it will hallucinate the answers"
   ]
  },
  {
   "cell_type": "code",
   "execution_count": null,
   "id": "6f36fce9",
   "metadata": {},
   "outputs": [],
   "source": []
  },
  {
   "cell_type": "code",
   "execution_count": null,
   "id": "d3e09933",
   "metadata": {},
   "outputs": [],
   "source": []
  },
  {
   "cell_type": "code",
   "execution_count": null,
   "id": "570257a2",
   "metadata": {},
   "outputs": [],
   "source": []
  },
  {
   "cell_type": "code",
   "execution_count": null,
   "id": "f613bd84",
   "metadata": {},
   "outputs": [],
   "source": []
  },
  {
   "cell_type": "code",
   "execution_count": null,
   "id": "d1e1b750",
   "metadata": {},
   "outputs": [],
   "source": []
  }
 ],
 "metadata": {
  "kernelspec": {
   "display_name": "Python 3 (ipykernel)",
   "language": "python",
   "name": "python3"
  },
  "language_info": {
   "codemirror_mode": {
    "name": "ipython",
    "version": 3
   },
   "file_extension": ".py",
   "mimetype": "text/x-python",
   "name": "python",
   "nbconvert_exporter": "python",
   "pygments_lexer": "ipython3",
   "version": "3.9.13"
  }
 },
 "nbformat": 4,
 "nbformat_minor": 5
}
